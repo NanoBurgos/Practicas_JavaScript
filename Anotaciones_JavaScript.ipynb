{
  "nbformat": 4,
  "nbformat_minor": 0,
  "metadata": {
    "colab": {
      "provenance": [],
      "authorship_tag": "ABX9TyPGV0J+Esj9SzCjm/N8ycV9",
      "include_colab_link": true
    },
    "kernelspec": {
      "name": "python3",
      "display_name": "Python 3"
    },
    "language_info": {
      "name": "python"
    }
  },
  "cells": [
    {
      "cell_type": "markdown",
      "metadata": {
        "id": "view-in-github",
        "colab_type": "text"
      },
      "source": [
        "<a href=\"https://colab.research.google.com/github/NanoBurgos/Practicas_JavaScript/blob/main/Anotaciones_JavaScript.ipynb\" target=\"_parent\"><img src=\"https://colab.research.google.com/assets/colab-badge.svg\" alt=\"Open In Colab\"/></a>"
      ]
    },
    {
      "cell_type": "markdown",
      "source": [
        "# JavaScript en 10 min\n",
        "\n",
        "https://www.youtube.com/watch?v=8GTaO9XhA5M"
      ],
      "metadata": {
        "id": "ZSy44TYGNIZD"
      }
    },
    {
      "cell_type": "markdown",
      "source": [
        "Limpiar consola cmd + k ó windows + k\n",
        "\n",
        "Tipos de variables\n",
        "let -> variables de tipo texto"
      ],
      "metadata": {
        "id": "xiTYPo7XO4Zh"
      }
    },
    {
      "cell_type": "markdown",
      "source": [
        "# **Tipos de Datos PRIMITIVOS**\n",
        "'texto'\n",
        "\n",
        "    texto\n",
        "\n",
        "123\n",
        "\n",
        "    123\n",
        "true\n",
        "\n",
        "    true\n",
        "false\n",
        "\n",
        "    false\n",
        "\n",
        "undefined (un tipo de valor no definido)\n",
        "    \n",
        "    undefined\n",
        "\n",
        "null (un valor que si es definido pero es nulo)\n",
        "\n",
        "    null"
      ],
      "metadata": {
        "id": "2Z8n_e3bMSPq"
      }
    },
    {
      "cell_type": "markdown",
      "source": [
        "# ¿Para que sirven los tipos de datos primitivos?\n",
        "Podemos imprimirlos en la consola con console.log('lo que queremos imprimir');\n",
        "\n",
        "Las oraciones terminan con ;"
      ],
      "metadata": {
        "id": "CRF7hLS-NYDR"
      }
    },
    {
      "cell_type": "markdown",
      "source": [
        "# Tambien podemos Renderizar los valores en la pantalla\n",
        "\n",
        "Accedemos al objeto document, (.) para ver los metodos\n",
        "\n",
        "document.write('Texto');\n",
        "\n",
        "    Sale en la pantalla la palabra texto,\n",
        "    \n",
        "  (sobre un fondo blanco)"
      ],
      "metadata": {
        "id": "4mCTgeV1Nt45"
      }
    },
    {
      "cell_type": "markdown",
      "source": [
        "# Funcion ALERT\n",
        "alert(true);\n",
        "\n",
        "sale una alerta pop up en la parte superior\n",
        "\n"
      ],
      "metadata": {
        "id": "Q8mEbyiTORtB"
      }
    },
    {
      "cell_type": "markdown",
      "source": [
        "# **Tipos de datos NO PRIMITIVOS**\n",
        "\n",
        "Listas\n",
        "\n",
        "[1,2,3,4,5,6]\n",
        "\n",
        "    (6) [1,2,3,4,5,6]\n",
        "\n",
        "Objetos (son como diccionarios)\n",
        "\n",
        "{PDX: 'Portland'}\n",
        "\n",
        "    {PDX: 'Portland'}\n",
        "\n",
        "let telefono = '(406) 459-0000';  //variable de tipo texto(para poder guardar con los simbolos)\n",
        "\n",
        "-> Ahora para usar la variable\n",
        "\n",
        "alert(telefono);"
      ],
      "metadata": {
        "id": "L-2LuiiuOt4p"
      }
    },
    {
      "cell_type": "markdown",
      "source": [
        "# **Operadores**\n",
        "\n",
        "Incluye todos los operadores  + - / *\n",
        "\n",
        "**OPERADORES COMPARATIVOS**\n",
        "\n",
        "4==4\n",
        "\n",
        "    true\n",
        "\n",
        "0=='0' (el numero cero es igual al texto cero?)\n",
        "\n",
        "    true\n",
        "\n",
        "0==='0' (es cero igual a 'cero' incluyendo el tipo?)\n",
        "\n",
        "    false\n",
        "\n",
        "**OPERADORES LOGICOS**\n",
        "\n",
        "# && (y) (AND)\n",
        "\n",
        "true && true\n",
        "\n",
        "    true\n",
        "\n",
        "true && false\n",
        "\n",
        "    false\n",
        "\n",
        "false && true\n",
        "\n",
        "    false\n",
        "\n",
        "false && false\n",
        "\n",
        "    false\n",
        "\n",
        "# || (ó) (OR)\n",
        "\n",
        "true || true\n",
        "\n",
        "    true\n",
        "\n",
        "true || false\n",
        "\n",
        "    true\n",
        "\n",
        "false || true\n",
        "\n",
        "    true\n",
        "\n",
        "false || false\n",
        "\n",
        "    false"
      ],
      "metadata": {
        "id": "5TpWuYqhQ1lK"
      }
    },
    {
      "cell_type": "markdown",
      "source": [
        "#**CONDICIONALES**\n",
        "\n",
        "\n"
      ],
      "metadata": {
        "id": "X55ypyHZSjW5"
      }
    }
  ]
}